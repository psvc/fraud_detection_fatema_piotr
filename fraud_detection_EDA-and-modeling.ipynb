{
 "cells": [
  {
   "cell_type": "code",
   "execution_count": 139,
   "metadata": {},
   "outputs": [],
   "source": [
    "import pandas as pd\n",
    "import numpy as np\n",
    "import warnings\n",
    "warnings.filterwarnings('ignore')\n",
    " \n",
    "import matplotlib.pyplot as plt\n",
    "# import seaborn as sns\n",
    "# from sklearn import preprocessing \n",
    "# from sklearn.model_selection import StratifiedKFold\n",
    "# import time\n",
    "# import os\n",
    "from sklearn.linear_model import LogisticRegression\n",
    "from sklearn.ensemble import RandomForestClassifier\n",
    "from sklearn.tree import DecisionTreeClassifier\n",
    "from sklearn.model_selection import train_test_split \n",
    "from sklearn.metrics import classification_report, precision_recall_curve, auc, roc_auc_score, confusion_matrix, precision_score, recall_score, f1_score\n",
    "from imblearn.over_sampling import SMOTE\n",
    "\n",
    "seed=47"
   ]
  },
  {
   "cell_type": "code",
   "execution_count": 104,
   "metadata": {},
   "outputs": [],
   "source": [
    "# load data\n",
    "client_train=pd.read_csv('data/client_train.csv')  \n",
    "client_test=pd.read_csv('data/client_test.csv')\n",
    "invoice_train=pd.read_csv('data/invoice_train.csv')\n",
    "invoice_test=pd.read_csv('data/invoice_test.csv')\n",
    "# sample_submission = pd.read_csv('data/SampleSubmission.csv')"
   ]
  },
  {
   "cell_type": "code",
   "execution_count": 89,
   "metadata": {},
   "outputs": [
    {
     "name": "stdout",
     "output_type": "stream",
     "text": [
      "(135493, 6) (4476749, 16) (58069, 5) (1939730, 16)\n"
     ]
    }
   ],
   "source": [
    "#compare size of the various datasets\n",
    "print(client_train.shape, invoice_train.shape, client_test.shape, invoice_test.shape)"
   ]
  },
  {
   "cell_type": "code",
   "execution_count": 90,
   "metadata": {},
   "outputs": [
    {
     "data": {
      "text/html": [
       "<div>\n",
       "<style scoped>\n",
       "    .dataframe tbody tr th:only-of-type {\n",
       "        vertical-align: middle;\n",
       "    }\n",
       "\n",
       "    .dataframe tbody tr th {\n",
       "        vertical-align: top;\n",
       "    }\n",
       "\n",
       "    .dataframe thead th {\n",
       "        text-align: right;\n",
       "    }\n",
       "</style>\n",
       "<table border=\"1\" class=\"dataframe\">\n",
       "  <thead>\n",
       "    <tr style=\"text-align: right;\">\n",
       "      <th></th>\n",
       "      <th>client_id</th>\n",
       "      <th>invoice_date</th>\n",
       "      <th>tarif_type</th>\n",
       "      <th>counter_number</th>\n",
       "      <th>counter_statue</th>\n",
       "      <th>counter_code</th>\n",
       "      <th>reading_remarque</th>\n",
       "      <th>counter_coefficient</th>\n",
       "      <th>consommation_level_1</th>\n",
       "      <th>consommation_level_2</th>\n",
       "      <th>consommation_level_3</th>\n",
       "      <th>consommation_level_4</th>\n",
       "      <th>old_index</th>\n",
       "      <th>new_index</th>\n",
       "      <th>months_number</th>\n",
       "      <th>counter_type</th>\n",
       "    </tr>\n",
       "  </thead>\n",
       "  <tbody>\n",
       "    <tr>\n",
       "      <th>0</th>\n",
       "      <td>train_Client_0</td>\n",
       "      <td>2014-03-24</td>\n",
       "      <td>11</td>\n",
       "      <td>1335667</td>\n",
       "      <td>0</td>\n",
       "      <td>203</td>\n",
       "      <td>8</td>\n",
       "      <td>1</td>\n",
       "      <td>82</td>\n",
       "      <td>0</td>\n",
       "      <td>0</td>\n",
       "      <td>0</td>\n",
       "      <td>14302</td>\n",
       "      <td>14384</td>\n",
       "      <td>4</td>\n",
       "      <td>ELEC</td>\n",
       "    </tr>\n",
       "    <tr>\n",
       "      <th>1</th>\n",
       "      <td>train_Client_0</td>\n",
       "      <td>2013-03-29</td>\n",
       "      <td>11</td>\n",
       "      <td>1335667</td>\n",
       "      <td>0</td>\n",
       "      <td>203</td>\n",
       "      <td>6</td>\n",
       "      <td>1</td>\n",
       "      <td>1200</td>\n",
       "      <td>184</td>\n",
       "      <td>0</td>\n",
       "      <td>0</td>\n",
       "      <td>12294</td>\n",
       "      <td>13678</td>\n",
       "      <td>4</td>\n",
       "      <td>ELEC</td>\n",
       "    </tr>\n",
       "    <tr>\n",
       "      <th>2</th>\n",
       "      <td>train_Client_0</td>\n",
       "      <td>2015-03-23</td>\n",
       "      <td>11</td>\n",
       "      <td>1335667</td>\n",
       "      <td>0</td>\n",
       "      <td>203</td>\n",
       "      <td>8</td>\n",
       "      <td>1</td>\n",
       "      <td>123</td>\n",
       "      <td>0</td>\n",
       "      <td>0</td>\n",
       "      <td>0</td>\n",
       "      <td>14624</td>\n",
       "      <td>14747</td>\n",
       "      <td>4</td>\n",
       "      <td>ELEC</td>\n",
       "    </tr>\n",
       "    <tr>\n",
       "      <th>3</th>\n",
       "      <td>train_Client_0</td>\n",
       "      <td>2015-07-13</td>\n",
       "      <td>11</td>\n",
       "      <td>1335667</td>\n",
       "      <td>0</td>\n",
       "      <td>207</td>\n",
       "      <td>8</td>\n",
       "      <td>1</td>\n",
       "      <td>102</td>\n",
       "      <td>0</td>\n",
       "      <td>0</td>\n",
       "      <td>0</td>\n",
       "      <td>14747</td>\n",
       "      <td>14849</td>\n",
       "      <td>4</td>\n",
       "      <td>ELEC</td>\n",
       "    </tr>\n",
       "    <tr>\n",
       "      <th>4</th>\n",
       "      <td>train_Client_0</td>\n",
       "      <td>2016-11-17</td>\n",
       "      <td>11</td>\n",
       "      <td>1335667</td>\n",
       "      <td>0</td>\n",
       "      <td>207</td>\n",
       "      <td>9</td>\n",
       "      <td>1</td>\n",
       "      <td>572</td>\n",
       "      <td>0</td>\n",
       "      <td>0</td>\n",
       "      <td>0</td>\n",
       "      <td>15066</td>\n",
       "      <td>15638</td>\n",
       "      <td>12</td>\n",
       "      <td>ELEC</td>\n",
       "    </tr>\n",
       "  </tbody>\n",
       "</table>\n",
       "</div>"
      ],
      "text/plain": [
       "        client_id invoice_date  tarif_type  counter_number counter_statue   \n",
       "0  train_Client_0   2014-03-24          11         1335667              0  \\\n",
       "1  train_Client_0   2013-03-29          11         1335667              0   \n",
       "2  train_Client_0   2015-03-23          11         1335667              0   \n",
       "3  train_Client_0   2015-07-13          11         1335667              0   \n",
       "4  train_Client_0   2016-11-17          11         1335667              0   \n",
       "\n",
       "   counter_code  reading_remarque  counter_coefficient  consommation_level_1   \n",
       "0           203                 8                    1                    82  \\\n",
       "1           203                 6                    1                  1200   \n",
       "2           203                 8                    1                   123   \n",
       "3           207                 8                    1                   102   \n",
       "4           207                 9                    1                   572   \n",
       "\n",
       "   consommation_level_2  consommation_level_3  consommation_level_4   \n",
       "0                     0                     0                     0  \\\n",
       "1                   184                     0                     0   \n",
       "2                     0                     0                     0   \n",
       "3                     0                     0                     0   \n",
       "4                     0                     0                     0   \n",
       "\n",
       "   old_index  new_index  months_number counter_type  \n",
       "0      14302      14384              4         ELEC  \n",
       "1      12294      13678              4         ELEC  \n",
       "2      14624      14747              4         ELEC  \n",
       "3      14747      14849              4         ELEC  \n",
       "4      15066      15638             12         ELEC  "
      ]
     },
     "execution_count": 90,
     "metadata": {},
     "output_type": "execute_result"
    }
   ],
   "source": [
    "#print top rows of dataset\n",
    "invoice_train.head()"
   ]
  },
  {
   "cell_type": "code",
   "execution_count": 91,
   "metadata": {},
   "outputs": [
    {
     "data": {
      "text/html": [
       "<div>\n",
       "<style scoped>\n",
       "    .dataframe tbody tr th:only-of-type {\n",
       "        vertical-align: middle;\n",
       "    }\n",
       "\n",
       "    .dataframe tbody tr th {\n",
       "        vertical-align: top;\n",
       "    }\n",
       "\n",
       "    .dataframe thead th {\n",
       "        text-align: right;\n",
       "    }\n",
       "</style>\n",
       "<table border=\"1\" class=\"dataframe\">\n",
       "  <thead>\n",
       "    <tr style=\"text-align: right;\">\n",
       "      <th></th>\n",
       "      <th>disrict</th>\n",
       "      <th>client_id</th>\n",
       "      <th>client_catg</th>\n",
       "      <th>region</th>\n",
       "      <th>creation_date</th>\n",
       "      <th>target</th>\n",
       "    </tr>\n",
       "  </thead>\n",
       "  <tbody>\n",
       "    <tr>\n",
       "      <th>0</th>\n",
       "      <td>60</td>\n",
       "      <td>train_Client_0</td>\n",
       "      <td>11</td>\n",
       "      <td>101</td>\n",
       "      <td>31/12/1994</td>\n",
       "      <td>0.0</td>\n",
       "    </tr>\n",
       "    <tr>\n",
       "      <th>1</th>\n",
       "      <td>69</td>\n",
       "      <td>train_Client_1</td>\n",
       "      <td>11</td>\n",
       "      <td>107</td>\n",
       "      <td>29/05/2002</td>\n",
       "      <td>0.0</td>\n",
       "    </tr>\n",
       "    <tr>\n",
       "      <th>2</th>\n",
       "      <td>62</td>\n",
       "      <td>train_Client_10</td>\n",
       "      <td>11</td>\n",
       "      <td>301</td>\n",
       "      <td>13/03/1986</td>\n",
       "      <td>0.0</td>\n",
       "    </tr>\n",
       "    <tr>\n",
       "      <th>3</th>\n",
       "      <td>69</td>\n",
       "      <td>train_Client_100</td>\n",
       "      <td>11</td>\n",
       "      <td>105</td>\n",
       "      <td>11/07/1996</td>\n",
       "      <td>0.0</td>\n",
       "    </tr>\n",
       "    <tr>\n",
       "      <th>4</th>\n",
       "      <td>62</td>\n",
       "      <td>train_Client_1000</td>\n",
       "      <td>11</td>\n",
       "      <td>303</td>\n",
       "      <td>14/10/2014</td>\n",
       "      <td>0.0</td>\n",
       "    </tr>\n",
       "  </tbody>\n",
       "</table>\n",
       "</div>"
      ],
      "text/plain": [
       "   disrict          client_id  client_catg  region creation_date  target\n",
       "0       60     train_Client_0           11     101    31/12/1994     0.0\n",
       "1       69     train_Client_1           11     107    29/05/2002     0.0\n",
       "2       62    train_Client_10           11     301    13/03/1986     0.0\n",
       "3       69   train_Client_100           11     105    11/07/1996     0.0\n",
       "4       62  train_Client_1000           11     303    14/10/2014     0.0"
      ]
     },
     "execution_count": 91,
     "metadata": {},
     "output_type": "execute_result"
    }
   ],
   "source": [
    "#print top rows of dataset\n",
    "client_train.head()"
   ]
  },
  {
   "cell_type": "code",
   "execution_count": 63,
   "metadata": {},
   "outputs": [
    {
     "name": "stdout",
     "output_type": "stream",
     "text": [
      "<class 'pandas.core.frame.DataFrame'>\n",
      "RangeIndex: 4476749 entries, 0 to 4476748\n",
      "Data columns (total 16 columns):\n",
      " #   Column                Dtype \n",
      "---  ------                ----- \n",
      " 0   client_id             object\n",
      " 1   invoice_date          object\n",
      " 2   tarif_type            int64 \n",
      " 3   counter_number        int64 \n",
      " 4   counter_statue        object\n",
      " 5   counter_code          int64 \n",
      " 6   reading_remarque      int64 \n",
      " 7   counter_coefficient   int64 \n",
      " 8   consommation_level_1  int64 \n",
      " 9   consommation_level_2  int64 \n",
      " 10  consommation_level_3  int64 \n",
      " 11  consommation_level_4  int64 \n",
      " 12  old_index             int64 \n",
      " 13  new_index             int64 \n",
      " 14  months_number         int64 \n",
      " 15  counter_type          object\n",
      "dtypes: int64(12), object(4)\n",
      "memory usage: 546.5+ MB\n"
     ]
    }
   ],
   "source": [
    "#Get concise information of each column in dataset\n",
    "invoice_train.info()"
   ]
  },
  {
   "cell_type": "code",
   "execution_count": 64,
   "metadata": {},
   "outputs": [
    {
     "name": "stdout",
     "output_type": "stream",
     "text": [
      "<class 'pandas.core.frame.DataFrame'>\n",
      "RangeIndex: 135493 entries, 0 to 135492\n",
      "Data columns (total 6 columns):\n",
      " #   Column         Non-Null Count   Dtype  \n",
      "---  ------         --------------   -----  \n",
      " 0   disrict        135493 non-null  int64  \n",
      " 1   client_id      135493 non-null  object \n",
      " 2   client_catg    135493 non-null  int64  \n",
      " 3   region         135493 non-null  int64  \n",
      " 4   creation_date  135493 non-null  object \n",
      " 5   target         135493 non-null  float64\n",
      "dtypes: float64(1), int64(3), object(2)\n",
      "memory usage: 6.2+ MB\n"
     ]
    }
   ],
   "source": [
    "#Get concise information of each column in dataset\n",
    "client_train.info()"
   ]
  },
  {
   "cell_type": "code",
   "execution_count": 92,
   "metadata": {},
   "outputs": [
    {
     "name": "stdout",
     "output_type": "stream",
     "text": [
      "client_id - 135493\n",
      "invoice_date - 8275\n",
      "tarif_type - 17\n",
      "counter_number - 201893\n",
      "counter_statue - 16\n",
      "counter_code - 42\n",
      "reading_remarque - 8\n",
      "counter_coefficient - 16\n",
      "consommation_level_1 - 8295\n",
      "consommation_level_2 - 12576\n",
      "consommation_level_3 - 2253\n",
      "consommation_level_4 - 12075\n",
      "old_index - 155648\n",
      "new_index - 157980\n",
      "months_number - 1370\n",
      "counter_type - 2\n"
     ]
    }
   ],
   "source": [
    "#Getting unique values on the invoice train data\n",
    "for col in invoice_train.columns:\n",
    "    print(f\"{col} - {invoice_train[col].nunique()}\")"
   ]
  },
  {
   "cell_type": "code",
   "execution_count": 93,
   "metadata": {},
   "outputs": [
    {
     "name": "stdout",
     "output_type": "stream",
     "text": [
      "disrict - 4\n",
      "client_id - 135493\n",
      "client_catg - 3\n",
      "region - 25\n",
      "creation_date - 8088\n",
      "target - 2\n"
     ]
    }
   ],
   "source": [
    "#Getting unique values on the client train data\n",
    "for col in client_train.columns:\n",
    "    print(f\"{col} - {client_train[col].nunique()}\")"
   ]
  },
  {
   "cell_type": "code",
   "execution_count": 94,
   "metadata": {},
   "outputs": [
    {
     "data": {
      "text/plain": [
       "disrict          0\n",
       "client_id        0\n",
       "client_catg      0\n",
       "region           0\n",
       "creation_date    0\n",
       "target           0\n",
       "dtype: int64"
      ]
     },
     "execution_count": 94,
     "metadata": {},
     "output_type": "execute_result"
    }
   ],
   "source": [
    "#check for missing values\n",
    "client_train.isnull().sum()"
   ]
  },
  {
   "cell_type": "code",
   "execution_count": 105,
   "metadata": {},
   "outputs": [
    {
     "name": "stdout",
     "output_type": "stream",
     "text": [
      "Percent of client test to train 30.000206652132132 %\n",
      "Percent of invoice test to train 30.230442583853232 %\n"
     ]
    }
   ],
   "source": [
    "# 0.7 0.3 split\n",
    "client_test_percent = client_test.shape[0]/(client_train.shape[0]+client_test.shape[0])*100 #30% testing\n",
    "invoice_test_percent = invoice_test.shape[0]/(invoice_train.shape[0]+invoice_test.shape[0])*100 #30% testing\n",
    "\n",
    "print(f\"Percent of client test to train {client_test_percent} %\")\n",
    "print(f\"Percent of invoice test to train {invoice_test_percent} %\")"
   ]
  },
  {
   "cell_type": "code",
   "execution_count": 106,
   "metadata": {},
   "outputs": [
    {
     "data": {
      "image/png": "[encoded data removed]",
      "text/plain": [
       "<Figure size 640x480 with 1 Axes>"
      ]
     },
     "metadata": {},
     "output_type": "display_data"
    }
   ],
   "source": [
    "#Visualize fraudulent activities\n",
    "fraudactivities = client_train.groupby(['target'])['client_id'].count()\n",
    "plt.bar(x=fraudactivities.index, height=fraudactivities.values, tick_label =['Non-Fraudulent Clients', 'Fraudulent Clients'])\n",
    "plt.title('Number of Fraudulent and Non-Fraudulent Clients')\n",
    "plt.show()\n",
    "#Target is highly imbalanced with fewer cases of fraudulent activities"
   ]
  },
  {
   "cell_type": "markdown",
   "metadata": {},
   "source": [
    "Our dataset is highly imbalanced. This means the number of non-fraudulent customers (0) \n",
    "is significantly greater than the number of fraudulent ones (1). \n",
    "This situation is completely normal for fraud detection tasks, but we must pay close attention to it \n",
    "when building our model to ensure it doesn't simply predict everything as \"non-fraudulent."
   ]
  },
  {
   "cell_type": "code",
   "execution_count": 107,
   "metadata": {},
   "outputs": [
    {
     "name": "stdout",
     "output_type": "stream",
     "text": [
      "Index(['district', 'client_id', 'client_catg', 'region', 'creation_date',\n",
      "       'target'],\n",
      "      dtype='object')\n",
      "Index(['district', 'client_id', 'client_catg', 'region', 'creation_date'], dtype='object')\n"
     ]
    }
   ],
   "source": [
    "#Column cleanup p1\n",
    "client_train.rename(columns={'disrict': 'district'}, inplace=True)\n",
    "print(client_train.columns)\n",
    "client_test.rename(columns={'disrict': 'district'}, inplace=True)\n",
    "print(client_test.columns)"
   ]
  },
  {
   "cell_type": "code",
   "execution_count": 108,
   "metadata": {},
   "outputs": [
    {
     "data": {
      "image/png": "[encoded data removed]",
      "text/plain": [
       "<Figure size 640x480 with 1 Axes>"
      ]
     },
     "metadata": {},
     "output_type": "display_data"
    },
    {
     "data": {
      "image/png": "[encoded data removed]",
      "text/plain": [
       "<Figure size 640x480 with 1 Axes>"
      ]
     },
     "metadata": {},
     "output_type": "display_data"
    }
   ],
   "source": [
    "#Visualize client distribution across districts and regions\n",
    "for col in ['district','region']:\n",
    "    region = client_train.groupby([col])['client_id'].count()\n",
    "    plt.bar(x=region.index, height=region.values)\n",
    "    plt.title(col+' distribution')\n",
    "    plt.show()"
   ]
  },
  {
   "cell_type": "code",
   "execution_count": 109,
   "metadata": {},
   "outputs": [
    {
     "data": {
      "image/png": "[encoded data removed]",
      "text/plain": [
       "<Figure size 640x480 with 1 Axes>"
      ]
     },
     "metadata": {},
     "output_type": "display_data"
    }
   ],
   "source": [
    "ds = client_train.groupby(['region'])['client_id'].count()\n",
    "plt.bar(x=ds.index, height=ds.values)\n",
    "plt.title('region distribution')\n",
    "plt.show()"
   ]
  },
  {
   "cell_type": "markdown",
   "metadata": {},
   "source": [
    "# Feature Engineering"
   ]
  },
  {
   "cell_type": "code",
   "execution_count": 110,
   "metadata": {},
   "outputs": [
    {
     "name": "stdout",
     "output_type": "stream",
     "text": [
      "<class 'pandas.core.frame.DataFrame'>\n",
      "RangeIndex: 135493 entries, 0 to 135492\n",
      "Data columns (total 6 columns):\n",
      " #   Column         Non-Null Count   Dtype  \n",
      "---  ------         --------------   -----  \n",
      " 0   district       135493 non-null  int64  \n",
      " 1   client_id      135493 non-null  object \n",
      " 2   client_catg    135493 non-null  int64  \n",
      " 3   region         135493 non-null  int64  \n",
      " 4   creation_date  135493 non-null  object \n",
      " 5   target         135493 non-null  float64\n",
      "dtypes: float64(1), int64(3), object(2)\n",
      "memory usage: 6.2+ MB\n",
      "None\n",
      "Non-numeric columns: ['client_id', 'creation_date']\n"
     ]
    }
   ],
   "source": [
    "# Check the data types of the columns\n",
    "print(client_train.info())\n",
    "\n",
    "# Alternatively, specifically find the columns with text (object) data type\n",
    "object_cols = client_train.select_dtypes(include=['object']).columns\n",
    "print(\"Non-numeric columns:\", list(object_cols))"
   ]
  },
  {
   "cell_type": "code",
   "execution_count": 111,
   "metadata": {},
   "outputs": [],
   "source": [
    "#convert the column invoice_date to date time format on both the invoice train and invoice test\n",
    "for df in [invoice_train,invoice_test]:\n",
    "    df['invoice_date'] = pd.to_datetime(df['invoice_date'])"
   ]
  },
  {
   "cell_type": "code",
   "execution_count": 112,
   "metadata": {},
   "outputs": [],
   "source": [
    "#encode labels in categorical column\n",
    "d={\"ELEC\":0,\"GAZ\":1}\n",
    "invoice_train['counter_type']=invoice_train['counter_type'].map(d)\n",
    "invoice_test['counter_type']=invoice_test['counter_type'].map(d)"
   ]
  },
  {
   "cell_type": "code",
   "execution_count": 113,
   "metadata": {},
   "outputs": [],
   "source": [
    "#convert categorical columns to int for model\n",
    "client_train['client_catg'] = client_train['client_catg'].astype(int)\n",
    "client_train['district'] = client_train['district'].astype(int)\n",
    "\n",
    "client_test['client_catg'] = client_test['client_catg'].astype(int)\n",
    "client_test['district'] = client_test['district'].astype(int)"
   ]
  },
  {
   "cell_type": "code",
   "execution_count": 114,
   "metadata": {},
   "outputs": [
    {
     "name": "stdout",
     "output_type": "stream",
     "text": [
      "Data types of the final features (X):\n",
      "<class 'pandas.core.frame.DataFrame'>\n",
      "RangeIndex: 135493 entries, 0 to 135492\n",
      "Data columns (total 6 columns):\n",
      " #   Column              Non-Null Count   Dtype\n",
      "---  ------              --------------   -----\n",
      " 0   district            135493 non-null  int64\n",
      " 1   client_catg         135493 non-null  int64\n",
      " 2   region              135493 non-null  int64\n",
      " 3   creation_year       135493 non-null  int32\n",
      " 4   creation_month      135493 non-null  int32\n",
      " 5   creation_dayofweek  135493 non-null  int32\n",
      "dtypes: int32(3), int64(3)\n",
      "memory usage: 4.7 MB\n"
     ]
    }
   ],
   "source": [
    "\n",
    "# It's good practice to work on a copy of your dataframe\n",
    "df_processed = client_train.copy()\n",
    "\n",
    "# 1. Handle the 'creation_date' column\n",
    "# Convert the column to a proper datetime format\n",
    "df_processed['creation_date'] = pd.to_datetime(df_processed['creation_date'])\n",
    "\n",
    "# Extract numerical features from the date\n",
    "df_processed['creation_year'] = df_processed['creation_date'].dt.year\n",
    "df_processed['creation_month'] = df_processed['creation_date'].dt.month\n",
    "df_processed['creation_dayofweek'] = df_processed['creation_date'].dt.dayofweek\n",
    "\n",
    "# 2. Define your features (X) and target (y)\n",
    "# We drop the original date column and the client_id\n",
    "X = df_processed.drop(columns=['target', 'creation_date', 'client_id'])\n",
    "y = df_processed['target']\n",
    "\n",
    "# --- Verification Step ---\n",
    "# Check the info for X to confirm all columns are now numeric\n",
    "print(\"Data types of the final features (X):\")\n",
    "X.info()"
   ]
  },
  {
   "cell_type": "code",
   "execution_count": 115,
   "metadata": {},
   "outputs": [],
   "source": [
    "# --- Feature Engineering & Preprocessing ---\n",
    "\n",
    "# Handle the 'creation_date' column by extracting numerical features\n",
    "client_train['creation_date'] = pd.to_datetime(client_train['creation_date'])\n",
    "client_train['creation_year'] = client_train['creation_date'].dt.year\n",
    "client_train['creation_month'] = client_train['creation_date'].dt.month\n",
    "client_train['creation_dayofweek'] = client_train['creation_date'].dt.dayofweek\n",
    "\n",
    "# Process the invoice data\n",
    "# Convert invoice_date to datetime\n",
    "invoice_train['invoice_date'] = pd.to_datetime(invoice_train['invoice_date'])\n",
    "\n",
    "# Encode 'counter_type' using mapping\n",
    "d = {\"ELEC\": 0, \"GAZ\": 1}\n",
    "invoice_train['counter_type'] = invoice_train['counter_type'].map(d)\n",
    "\n",
    "# Aggregate invoice data by client\n",
    "def aggregate_by_client_id(invoice_data):\n",
    "    aggs = {\n",
    "        'consommation_level_1': ['mean'],\n",
    "        'consommation_level_2': ['mean'],\n",
    "        'consommation_level_3': ['mean'],\n",
    "        'consommation_level_4': ['mean'],\n",
    "        'months_number': ['mean', 'max'] # Added more aggregations for richness\n",
    "    }\n",
    "    agg_trans = invoice_data.groupby('client_id').agg(aggs)\n",
    "    agg_trans.columns = ['_'.join(col).strip() for col in agg_trans.columns.values]\n",
    "    agg_trans.reset_index(inplace=True)\n",
    "\n",
    "    df = (invoice_data.groupby('client_id')\n",
    "            .size()\n",
    "            .reset_index(name='transactions_count'))\n",
    "    \n",
    "    return pd.merge(df, agg_trans, on='client_id', how='left')\n",
    "\n",
    "agg_train = aggregate_by_client_id(invoice_train)"
   ]
  },
  {
   "cell_type": "code",
   "execution_count": 116,
   "metadata": {},
   "outputs": [],
   "source": [
    "# --- 1. Prepare Data ---\n",
    "# Merge aggregated invoice data with client data\n",
    "train_df = pd.merge(client_train, agg_train, on='client_id', how='left')\n",
    "\n",
    "# Drop unnecessary columns\n",
    "# 'creation_date' is now represented by numerical features\n",
    "# 'client_id' is an identifier and not a feature\n",
    "X = train_df.drop(columns=['target', 'creation_date', 'client_id'])\n",
    "y = train_df['target']\n",
    "\n",
    "# Assuming X is the feature data and y are the labels (0 and 1)\n",
    "X_train, X_test, y_train, y_test = train_test_split(X, y, test_size=0.3, random_state=42, stratify=y)"
   ]
  },
  {
   "cell_type": "code",
   "execution_count": 117,
   "metadata": {},
   "outputs": [
    {
     "name": "stdout",
     "output_type": "stream",
     "text": [
      "              precision    recall  f1-score   support\n",
      "\n",
      "         0.0       0.97      0.67      0.79     38378\n",
      "         1.0       0.10      0.59      0.17      2270\n",
      "\n",
      "    accuracy                           0.67     40648\n",
      "   macro avg       0.53      0.63      0.48     40648\n",
      "weighted avg       0.92      0.67      0.76     40648\n",
      "\n",
      "AUC-PR Score: 0.09790590115103792\n"
     ]
    }
   ],
   "source": [
    "# Build the baseline model Logistic Regression\n",
    "\n",
    "# class_weight='balanced' automatically gives a higher weight to the minority class (1)\n",
    "baseline_model = LogisticRegression(class_weight='balanced', solver='liblinear')\n",
    "\n",
    "# Train the model\n",
    "baseline_model.fit(X_train, y_train)\n",
    "\n",
    "# Make predictions\n",
    "y_pred = baseline_model.predict(X_test)\n",
    "\n",
    "# Evaluation\n",
    "print(classification_report(y_test, y_pred))\n",
    "\n",
    "# Calculate AUC-PR\n",
    "y_probs = baseline_model.predict_proba(X_test)[:, 1] # Probability of belonging to class 1\n",
    " \n",
    "precision, recall, _ = precision_recall_curve(y_test, y_probs)\n",
    "print(f\"AUC-PR Score: {auc(recall, precision)}\")\n"
   ]
  },
  {
   "cell_type": "code",
   "execution_count": 118,
   "metadata": {},
   "outputs": [
    {
     "name": "stdout",
     "output_type": "stream",
     "text": [
      "--- Training Logistic Regression Baseline Model ---\n",
      "\n",
      "--- Logistic Regression Baseline Evaluation ---\n",
      "\n",
      "Classification Report:\n",
      "              precision    recall  f1-score   support\n",
      "\n",
      "         0.0       0.97      0.67      0.79     38378\n",
      "         1.0       0.10      0.59      0.17      2270\n",
      "\n",
      "    accuracy                           0.67     40648\n",
      "   macro avg       0.53      0.63      0.48     40648\n",
      "weighted avg       0.92      0.67      0.76     40648\n",
      "\n",
      "\n",
      "Confusion Matrix (Logistic Regression):\n",
      "[[25693 12685]\n",
      " [  921  1349]]\n",
      "AUC-PR Score (Logistic Regression): 0.09790590115103792\n",
      "ROC AUC Score (Logistic Regression): 0.6909492360137497\n"
     ]
    }
   ],
   "source": [
    "# --- 2. Train Model ---\n",
    "print(\"--- Training Logistic Regression Baseline Model ---\")\n",
    "baseline_lr_model = LogisticRegression(class_weight='balanced', solver='liblinear', random_state=42)\n",
    "baseline_lr_model.fit(X_train, y_train)\n",
    "\n",
    "# --- 3. Make Predictions ---\n",
    "y_probs_lr = baseline_lr_model.predict_proba(X_test)[:, 1]\n",
    "y_pred_lr_hard = baseline_lr_model.predict(X_test) # Uses default 0.5 threshold\n",
    "\n",
    "# --- 4. Evaluate ---\n",
    "print(\"\\n--- Logistic Regression Baseline Evaluation ---\")\n",
    "\n",
    "print(\"\\nClassification Report:\")\n",
    "print(classification_report(y_test, y_pred_lr_hard))\n",
    "\n",
    "# Confusion Matrix for Logistic Regression (at default 0.5 threshold)\n",
    "\n",
    "print(\"\\nConfusion Matrix (Logistic Regression):\")\n",
    "print(confusion_matrix(y_test, y_pred_lr_hard))\n",
    "\n",
    "# Calculate AUC-PR\n",
    "precision_lr, recall_lr, _ = precision_recall_curve(y_test, y_probs_lr)\n",
    "auc_pr_lr = auc(recall_lr, precision_lr)\n",
    "print(f\"AUC-PR Score (Logistic Regression): {auc_pr_lr}\")\n",
    "\n",
    "# Optional: Add ROC AUC Score\n",
    "roc_auc_lr = roc_auc_score(y_test, y_probs_lr)\n",
    "print(f\"ROC AUC Score (Logistic Regression): {roc_auc_lr}\")"
   ]
  },
  {
   "cell_type": "markdown",
   "metadata": {},
   "source": [
    "# Our baseline model Interpretation:\n",
    "Good Recall (0.60 for fraud): The model is effective at catching a majority of the actual fraudsters, identifying 60% of all fraudulent cases. This is a strong starting point.\n",
    "\n",
    "Very Poor Precision (0.10 for fraud): This is the main weakness. When the model predicts an account is fraudulent, it is only correct 10% of the time. This leads to a high number of false positives, meaning many legitimate customers would be incorrectly flagged.\n",
    "\n",
    "Low AUC-PR Score (0.098): This score confirms that while the model is better than random, its overall ability to balance finding fraud (recall) and being accurate (precision) is low.\n",
    "\n",
    "In short: The model is good at finding fraud but is overly sensitive, resulting in too many false alarms. The next step is to improve its precision without significantly hurting its ability to recall fraudulent cases."
   ]
  },
  {
   "cell_type": "code",
   "execution_count": 119,
   "metadata": {},
   "outputs": [
    {
     "name": "stdout",
     "output_type": "stream",
     "text": [
      "[[ 3.36289803e-03  2.23286456e-03  4.38254257e-04 -6.58842945e-04\n",
      "  -1.80061381e-04  4.54476623e-06  2.23180166e-02  2.52618369e-05\n",
      "   5.79924780e-06  3.17927239e-03 -5.19127783e-05 -8.41172256e-05\n",
      "   3.34182237e-05]]\n",
      "[3.03723337e-06]\n"
     ]
    }
   ],
   "source": [
    "print(baseline_model.coef_)\n",
    "print(baseline_model.intercept_)"
   ]
  },
  {
   "cell_type": "markdown",
   "metadata": {},
   "source": [
    "## Random Forest"
   ]
  },
  {
   "cell_type": "code",
   "execution_count": 125,
   "metadata": {},
   "outputs": [
    {
     "name": "stdout",
     "output_type": "stream",
     "text": [
      "--- Random Forest Model Evaluation ---\n",
      "\n",
      "Classification Report (Random Forest):\n",
      "              precision    recall  f1-score   support\n",
      "\n",
      "         0.0       0.94      1.00      0.97     38378\n",
      "         1.0       0.32      0.00      0.01      2270\n",
      "\n",
      "    accuracy                           0.94     40648\n",
      "   macro avg       0.63      0.50      0.49     40648\n",
      "weighted avg       0.91      0.94      0.92     40648\n",
      "\n",
      "Random Forest AUC-PR Score: 0.15918214239471087\n",
      "Random Forest ROC AUC Score: 0.7474499145182985\n"
     ]
    }
   ],
   "source": [
    "from sklearn.ensemble import RandomForestClassifier\n",
    "\n",
    "random_forest = RandomForestClassifier(random_state=42, criterion=\"entropy\", class_weight='balanced') # Added class_weight='balanced' \n",
    "random_forest.fit(X_train,y_train)\n",
    "\n",
    "# Get predicted probabilities for the positive class (class 1)\n",
    "random_forest_predictions_proba = random_forest.predict_proba(X_test)[:,1]\n",
    "random_forest_predictions_hard = random_forest.predict(X_test)\n",
    "\n",
    "\n",
    "# --- Evaluation for Random Forest ---\n",
    "\n",
    "print(\"--- Random Forest Model Evaluation ---\")\n",
    "\n",
    "# 1. Classification Report (Precision, Recall, F1-score)\n",
    "print(\"\\nClassification Report (Random Forest):\")\n",
    "print(classification_report(y_test, random_forest_predictions_hard))\n",
    "\n",
    "# 2. Calculate AUC-PR Score\n",
    "# precision_recall_curve requires probabilities\n",
    "rf_precision, rf_recall, _ = precision_recall_curve(y_test, random_forest_predictions_proba)\n",
    "rf_auc_pr_score = auc(rf_recall, rf_precision)\n",
    "print(f\"Random Forest AUC-PR Score: {rf_auc_pr_score}\")\n",
    "\n",
    "# 3. (Optional but good to keep) ROC AUC Score\n",
    "rf_roc_auc_score = roc_auc_score(y_test, random_forest_predictions_proba)\n",
    "print(f\"Random Forest ROC AUC Score: {rf_roc_auc_score}\")"
   ]
  },
  {
   "cell_type": "markdown",
   "metadata": {},
   "source": [
    "*Current situation:* Even though the ROC AUC Score looks good, the recall plummeted down (fraud detection class 1.0) to 0. \n",
    "\n",
    "_Complication:_ This means model is to conservative - not detecting the fraud.\n",
    "\n",
    "_Solution:_  In steps, default threshold 0.5 has to be adjusted, class_weight changed, SMOTE (Synthetic Minority Oversampling Technique)"
   ]
  },
  {
   "cell_type": "code",
   "execution_count": 128,
   "metadata": {},
   "outputs": [
    {
     "name": "stdout",
     "output_type": "stream",
     "text": [
      "\n",
      "--- Random Forest Evaluation at Different Thresholds ---\n",
      "\n",
      "Threshold: 0.05\n",
      "  Precision (Fraud): 0.10\n",
      "  Recall (Fraud):    0.74\n",
      "  F1-score (Fraud):  0.18\n",
      "  Confusion Matrix:\n",
      " [[23437 14941]\n",
      " [  585  1685]]\n",
      "\n",
      "Threshold: 0.10\n",
      "  Precision (Fraud): 0.15\n",
      "  Recall (Fraud):    0.49\n",
      "  F1-score (Fraud):  0.22\n",
      "  Confusion Matrix:\n",
      " [[31811  6567]\n",
      " [ 1156  1114]]\n",
      "\n",
      "Threshold: 0.15\n",
      "  Precision (Fraud): 0.19\n",
      "  Recall (Fraud):    0.31\n",
      "  F1-score (Fraud):  0.23\n",
      "  Confusion Matrix:\n",
      " [[35343  3035]\n",
      " [ 1572   698]]\n",
      "\n",
      "Threshold: 0.20\n",
      "  Precision (Fraud): 0.23\n",
      "  Recall (Fraud):    0.18\n",
      "  F1-score (Fraud):  0.20\n",
      "  Confusion Matrix:\n",
      " [[36978  1400]\n",
      " [ 1856   414]]\n",
      "\n",
      "Threshold: 0.25\n",
      "  Precision (Fraud): 0.26\n",
      "  Recall (Fraud):    0.10\n",
      "  F1-score (Fraud):  0.15\n",
      "  Confusion Matrix:\n",
      " [[37689   689]\n",
      " [ 2032   238]]\n",
      "\n",
      "Threshold: 0.30\n",
      "  Precision (Fraud): 0.30\n",
      "  Recall (Fraud):    0.06\n",
      "  F1-score (Fraud):  0.10\n",
      "  Confusion Matrix:\n",
      " [[38062   316]\n",
      " [ 2132   138]]\n",
      "\n",
      "Threshold: 0.40\n",
      "  Precision (Fraud): 0.30\n",
      "  Recall (Fraud):    0.01\n",
      "  F1-score (Fraud):  0.02\n",
      "  Confusion Matrix:\n",
      " [[38317    61]\n",
      " [ 2244    26]]\n",
      "\n",
      "Threshold: 0.50\n",
      "  Precision (Fraud): 0.27\n",
      "  Recall (Fraud):    0.00\n",
      "  F1-score (Fraud):  0.01\n",
      "  Confusion Matrix:\n",
      " [[38362    16]\n",
      " [ 2264     6]]\n"
     ]
    }
   ],
   "source": [
    "# --- Step 1\n",
    "# --- Experiment with different thresholds ---\n",
    "class_weight_threshold = [0.05, 0.1, 0.15, 0.2, 0.25, 0.3, 0.4, 0.5] # Add more granular thresholds if needed\n",
    "\n",
    "print(\"\\n--- Random Forest Evaluation at Different Thresholds ---\")\n",
    "for t in class_weight_threshold:\n",
    "    # Apply the threshold to get hard predictions\n",
    "    y_pred_at_threshold = (random_forest_predictions_proba >= t).astype(int)\n",
    "\n",
    "    precision = precision_score(y_test, y_pred_at_threshold, pos_label=1)\n",
    "    recall = recall_score(y_test, y_pred_at_threshold, pos_label=1)\n",
    "    f1 = f1_score(y_test, y_pred_at_threshold, pos_label=1)\n",
    "\n",
    "    print(f\"\\nThreshold: {t:.2f}\")\n",
    "    print(f\"  Precision (Fraud): {precision:.2f}\")\n",
    "    print(f\"  Recall (Fraud):    {recall:.2f}\")\n",
    "    print(f\"  F1-score (Fraud):  {f1:.2f}\")\n",
    "    # Optional: Print confusion matrix for detailed view\n",
    "    print(\"  Confusion Matrix:\\n\", confusion_matrix(y_test, y_pred_at_threshold))"
   ]
  },
  {
   "cell_type": "markdown",
   "metadata": {},
   "source": [
    "Based on the F1-score, the best performing threshold is 0.15, which gives us an F1-score of 0.23.\n",
    "\n",
    "Threshold 0.15:\n",
    "Precision (Fraud): 0.19 (Meaning 19% of what the model flags as fraud is actually fraud). \n",
    "Recall (Fraud): 0.30 (Meaning the model catches 30% of actual fraudsters). "
   ]
  },
  {
   "cell_type": "code",
   "execution_count": 129,
   "metadata": {},
   "outputs": [
    {
     "name": "stdout",
     "output_type": "stream",
     "text": [
      "--- Random Forest Model Evaluation with Optimal Threshold 0.15 ---\n",
      "\n",
      "---------------------------------------------------------\n",
      "Optimal Threshold (based on F1-score): 0.150\n",
      "Best F1-score (Fraud):                 0.23\n",
      "Precision at optimal threshold:        0.19\n",
      "Recall at optimal threshold:           0.31\n",
      "---------------------------------------------------------\n",
      "\n",
      "Final Classification Report with Optimal Threshold (0.150):\n",
      "              precision    recall  f1-score   support\n",
      "\n",
      "         0.0       0.96      0.92      0.94     38378\n",
      "         1.0       0.19      0.31      0.23      2270\n",
      "\n",
      "    accuracy                           0.89     40648\n",
      "   macro avg       0.57      0.61      0.59     40648\n",
      "weighted avg       0.91      0.89      0.90     40648\n",
      "\n",
      "\n",
      "Confusion Matrix:\n",
      "[[35343  3035]\n",
      " [ 1572   698]]\n",
      "\n",
      "Random Forest AUC-PR Score (based on probabilities): 0.1592\n",
      "Random Forest ROC AUC Score (based on probabilities): 0.7474\n"
     ]
    }
   ],
   "source": [
    "# --- ADOPT THE OPTIMAL THRESHOLD ---\n",
    "# This is the optimal threshold determined from your previous tuning steps\n",
    "optimal_threshold = 0.15\n",
    "\n",
    "# Apply the chosen threshold to get hard predictions\n",
    "y_pred_at_optimal_threshold = (random_forest_predictions_proba >= optimal_threshold).astype(int)\n",
    "\n",
    "# --- Final Evaluation with the Chosen Optimal Threshold ---\n",
    "print(f\"--- Random Forest Model Evaluation with Optimal Threshold {optimal_threshold:.2f} ---\")\n",
    "\n",
    "# Calculate individual metrics for the optimal threshold\n",
    "precision_fraud = precision_score(y_test, y_pred_at_optimal_threshold, pos_label=1, zero_division=0)\n",
    "recall_fraud = recall_score(y_test, y_pred_at_optimal_threshold, pos_label=1, zero_division=0)\n",
    "f1_fraud = f1_score(y_test, y_pred_at_optimal_threshold, pos_label=1, zero_division=0)\n",
    "\n",
    "\n",
    "print(\"\\n---------------------------------------------------------\")\n",
    "print(f\"Optimal Threshold (based on F1-score): {optimal_threshold:.3f}\")\n",
    "print(f\"Best F1-score (Fraud):                 {f1_fraud:.2f}\")\n",
    "print(f\"Precision at optimal threshold:        {precision_fraud:.2f}\")\n",
    "print(f\"Recall at optimal threshold:           {recall_fraud:.2f}\")\n",
    "print(\"---------------------------------------------------------\")\n",
    "\n",
    "# Final Classification Report\n",
    "print(f\"\\nFinal Classification Report with Optimal Threshold ({optimal_threshold:.3f}):\")\n",
    "print(classification_report(y_test, y_pred_at_optimal_threshold))\n",
    "\n",
    "# Confusion Matrix\n",
    "print(\"\\nConfusion Matrix:\")\n",
    "print(confusion_matrix(y_test, y_pred_at_optimal_threshold))\n",
    "\n",
    "# Calculate AUC-PR (based on probabilities, so it's independent of the chosen threshold)\n",
    "rf_precision_curve, rf_recall_curve, _ = precision_recall_curve(y_test, random_forest_predictions_proba)\n",
    "rf_auc_pr_score = auc(rf_recall_curve, rf_precision_curve)\n",
    "print(f\"\\nRandom Forest AUC-PR Score (based on probabilities): {rf_auc_pr_score:.4f}\") # Formatted for consistency\n",
    "\n",
    "# Calculate ROC AUC Score (based on probabilities, independent of threshold)\n",
    "rf_roc_auc_score = roc_auc_score(y_test, random_forest_predictions_proba)\n",
    "print(f\"Random Forest ROC AUC Score (based on probabilities): {rf_roc_auc_score:.4f}\") # Formatted for consistency"
   ]
  },
  {
   "cell_type": "code",
   "execution_count": 130,
   "metadata": {},
   "outputs": [
    {
     "name": "stdout",
     "output_type": "stream",
     "text": [
      "--- Calculating Custom Class_Weight ---\n",
      "Base scale factor (neg_count / pos_count): 16.91\n",
      "Custom Class Weights used: {0: 1, 1: 84.54399546827794}\n",
      "\n",
      "--- Training Random Forest Model with Custom Weights ---\n",
      "\n",
      "--- Random Forest (Custom Weights) Best Performance ---\n",
      "---------------------------------------------------------\n",
      "Optimal Threshold (based on F1-score): 0.150\n",
      "Best F1-score (Fraud):                 0.23\n",
      "Precision at optimal threshold:        0.19\n",
      "Recall at optimal threshold:           0.29\n",
      "---------------------------------------------------------\n",
      "\n",
      "Final Classification Report with Optimal Threshold (0.150):\n",
      "              precision    recall  f1-score   support\n",
      "\n",
      "         0.0       0.96      0.93      0.94     38378\n",
      "         1.0       0.19      0.29      0.23      2270\n",
      "\n",
      "    accuracy                           0.89     40648\n",
      "   macro avg       0.57      0.61      0.59     40648\n",
      "weighted avg       0.91      0.89      0.90     40648\n",
      "\n",
      "\n",
      "Confusion Matrix:\n",
      "[[35604  2774]\n",
      " [ 1613   657]]\n",
      "\n",
      "AUC-PR Score: 0.1613\n",
      "ROC AUC Score: 0.7467\n"
     ]
    }
   ],
   "source": [
    "# Step 2 \n",
    "# --- Calculate Custom Class_Weight and Train Model ---\n",
    "print(\"--- Calculating Custom Class_Weight ---\")\n",
    "neg_count = y_train.value_counts()[0]\n",
    "pos_count = y_train.value_counts()[1]\n",
    "scale_factor = neg_count / pos_count\n",
    "print(f\"Base scale factor (neg_count / pos_count): {scale_factor:.2f}\")\n",
    "\n",
    "# Experiment with multiplying this factor\n",
    "# Current example: giving class 1 (fraud) 5x more weight than 'balanced'\n",
    "custom_class_weights = {0: 1, 1: scale_factor * 5}\n",
    "print(f\"Custom Class Weights used: {custom_class_weights}\")\n",
    "\n",
    "print(\"\\n--- Training Random Forest Model with Custom Weights ---\")\n",
    "random_forest_custom_weights = RandomForestClassifier(\n",
    "    random_state=42,\n",
    "    criterion=\"entropy\",\n",
    "    class_weight=custom_class_weights # Use your custom weights here\n",
    ")\n",
    "random_forest_custom_weights.fit(X_train, y_train)\n",
    "\n",
    "# --- Make Predictions ---\n",
    "# Get predicted probabilities for the positive class (class 1, fraud)\n",
    "random_forest_predictions_proba_custom_weights = random_forest_custom_weights.predict_proba(X_test)[:, 1]\n",
    "\n",
    "# --- Find Optimal Threshold and Best Metrics ---\n",
    "# We still need the loop to DETERMINE the best threshold, but we won't print each step.\n",
    "class_weight_threshold = [0.01, 0.02, 0.03, 0.05, 0.07, 0.10, 0.15, 0.20, 0.25, 0.30, 0.40, 0.50]\n",
    "\n",
    "best_f1_custom_weights = 0\n",
    "optimal_threshold_custom_weights = 0\n",
    "optimal_precision_custom_weights = 0\n",
    "optimal_recall_custom_weights = 0\n",
    "\n",
    "for t in class_weight_threshold:\n",
    "    y_pred_at_threshold = (random_forest_predictions_proba_custom_weights >= t).astype(int)\n",
    "\n",
    "    precision = precision_score(y_test, y_pred_at_threshold, pos_label=1, zero_division=0)\n",
    "    recall = recall_score(y_test, y_pred_at_threshold, pos_label=1, zero_division=0)\n",
    "    f1 = f1_score(y_test, y_pred_at_threshold, pos_label=1, zero_division=0)\n",
    "\n",
    "    if f1 > best_f1_custom_weights:\n",
    "        best_f1_custom_weights = f1\n",
    "        optimal_threshold_custom_weights = t\n",
    "        optimal_precision_custom_weights = precision\n",
    "        optimal_recall_custom_weights = recall\n",
    "\n",
    "# --- Print Best Result ---\n",
    "print(\"\\n--- Random Forest (Custom Weights) Best Performance ---\")\n",
    "print(\"---------------------------------------------------------\")\n",
    "print(f\"Optimal Threshold (based on F1-score): {optimal_threshold_custom_weights:.3f}\")\n",
    "print(f\"Best F1-score (Fraud):                 {best_f1_custom_weights:.2f}\")\n",
    "print(f\"Precision at optimal threshold:        {optimal_precision_custom_weights:.2f}\")\n",
    "print(f\"Recall at optimal threshold:           {optimal_recall_custom_weights:.2f}\")\n",
    "print(\"---------------------------------------------------------\")\n",
    "\n",
    "# --- Final Evaluation with the Optimal Threshold ---\n",
    "y_pred_final_custom_weights = (random_forest_predictions_proba_custom_weights >= optimal_threshold_custom_weights).astype(int)\n",
    "\n",
    "# Classification Report\n",
    "print(f\"\\nFinal Classification Report with Optimal Threshold ({optimal_threshold_custom_weights:.3f}):\")\n",
    "print(classification_report(y_test, y_pred_final_custom_weights))\n",
    "\n",
    "# Confusion Matrix\n",
    "print(\"\\nConfusion Matrix:\")\n",
    "print(confusion_matrix(y_test, y_pred_final_custom_weights))\n",
    "\n",
    "# Calculate AUC-PR\n",
    "pr_curve_custom_weights, rec_curve_custom_weights, _ = precision_recall_curve(y_test, random_forest_predictions_proba_custom_weights)\n",
    "auc_pr_custom_weights = auc(rec_curve_custom_weights, pr_curve_custom_weights)\n",
    "print(f\"\\nAUC-PR Score: {auc_pr_custom_weights:.4f}\")\n",
    "\n",
    "# Calculate ROC AUC Score\n",
    "roc_auc_custom_weights = roc_auc_score(y_test, random_forest_predictions_proba_custom_weights)\n",
    "print(f\"ROC AUC Score: {roc_auc_custom_weights:.4f}\")"
   ]
  },
  {
   "cell_type": "code",
   "execution_count": 131,
   "metadata": {},
   "outputs": [
    {
     "name": "stdout",
     "output_type": "stream",
     "text": [
      "--- Training Random Forest Model with Ideal Class Weights ---\n",
      "Applying ideal Class Weights: {0: 1, 1: 84.54399546827794}\n",
      "\n",
      "--- Random Forest (Ideal Class Weights) Performance at Optimal Threshold 0.100 ---\n",
      "\n",
      "---------------------------------------------------------\n",
      "Optimal Threshold (based on F1-score): 0.100\n",
      "Best F1-score (Fraud):                 0.23\n",
      "Precision at optimal threshold:        0.15\n",
      "Recall at optimal threshold:           0.47\n",
      "---------------------------------------------------------\n",
      "\n",
      "Final Classification Report with Optimal Threshold (0.100):\n",
      "              precision    recall  f1-score   support\n",
      "\n",
      "         0.0       0.96      0.84      0.90     38378\n",
      "         1.0       0.15      0.47      0.23      2270\n",
      "\n",
      "    accuracy                           0.82     40648\n",
      "   macro avg       0.56      0.65      0.56     40648\n",
      "weighted avg       0.92      0.82      0.86     40648\n",
      "\n",
      "\n",
      "Confusion Matrix:\n",
      "[[32272  6106]\n",
      " [ 1206  1064]]\n",
      "\n",
      "Random Forest (Ideal Weights) AUC-PR Score: 0.1613\n",
      "Random Forest (Ideal Weights) ROC AUC Score: 0.7467\n"
     ]
    }
   ],
   "source": [
    "# --- Define and Train Random Forest Model with Ideal Class_Weight ---\n",
    "print(\"--- Training Random Forest Model with Ideal Class Weights ---\")\n",
    "\n",
    "# Your ideal class_weight as determined from previous tuning\n",
    "ideal_class_weights = {0: 1, 1: 84.54399546827794}\n",
    "print(f\"Applying ideal Class Weights: {ideal_class_weights}\")\n",
    "\n",
    "random_forest_ideal_weights = RandomForestClassifier(\n",
    "    class_weight=ideal_class_weights,\n",
    "    criterion='entropy',\n",
    "    random_state=42\n",
    ")\n",
    "random_forest_ideal_weights.fit(X_train, y_train)\n",
    "\n",
    "# --- Make Predictions (probabilities) ---\n",
    "y_probs_ideal_weights = random_forest_ideal_weights.predict_proba(X_test)[:, 1]\n",
    "\n",
    "# --- Final Evaluation at Optimal Threshold for THIS Ideal Class_Weight ---\n",
    "# Based on previous tuning with class_weight={0: 1, 1: 84.54...},\n",
    "# the optimal F1-score was found at Threshold: 0.100.\n",
    "optimal_threshold_for_ideal_weights = 0.100\n",
    "\n",
    "# Apply the optimal threshold to get hard predictions (0 or 1)\n",
    "y_pred_ideal_weights = (y_probs_ideal_weights >= optimal_threshold_for_ideal_weights).astype(int)\n",
    "\n",
    "# --- Print Core Metrics for the Best Result ---\n",
    "print(f\"\\n--- Random Forest (Ideal Class Weights) Performance at Optimal Threshold {optimal_threshold_for_ideal_weights:.3f} ---\")\n",
    "\n",
    "# Calculate individual metrics for the optimal threshold\n",
    "precision_fraud = precision_score(y_test, y_pred_ideal_weights, pos_label=1, zero_division=0)\n",
    "recall_fraud = recall_score(y_test, y_pred_ideal_weights, pos_label=1, zero_division=0)\n",
    "f1_fraud = f1_score(y_test, y_pred_ideal_weights, pos_label=1, zero_division=0)\n",
    "\n",
    "print(\"\\n---------------------------------------------------------\")\n",
    "print(f\"Optimal Threshold (based on F1-score): {optimal_threshold_for_ideal_weights:.3f}\")\n",
    "print(f\"Best F1-score (Fraud):                 {f1_fraud:.2f}\")\n",
    "print(f\"Precision at optimal threshold:        {precision_fraud:.2f}\")\n",
    "print(f\"Recall at optimal threshold:           {recall_fraud:.2f}\")\n",
    "print(\"---------------------------------------------------------\")\n",
    "\n",
    "# Final Classification Report\n",
    "print(f\"\\nFinal Classification Report with Optimal Threshold ({optimal_threshold_for_ideal_weights:.3f}):\")\n",
    "print(classification_report(y_test, y_pred_ideal_weights))\n",
    "\n",
    "# Confusion Matrix\n",
    "print(\"\\nConfusion Matrix:\")\n",
    "print(confusion_matrix(y_test, y_pred_ideal_weights))\n",
    "\n",
    "# Calculate AUC-PR (independent of threshold)\n",
    "pr_curve_ideal_weights, rec_curve_ideal_weights, _ = precision_recall_curve(y_test, y_probs_ideal_weights)\n",
    "auc_pr_ideal_weights = auc(rec_curve_ideal_weights, pr_curve_ideal_weights)\n",
    "print(f\"\\nRandom Forest (Ideal Weights) AUC-PR Score: {auc_pr_ideal_weights:.4f}\")\n",
    "\n",
    "# Calculate ROC AUC Score (independent of threshold)\n",
    "roc_auc_ideal_weights = roc_auc_score(y_test, y_probs_ideal_weights)\n",
    "print(f\"Random Forest (Ideal Weights) ROC AUC Score: {roc_auc_ideal_weights:.4f}\")"
   ]
  },
  {
   "cell_type": "markdown",
   "metadata": {},
   "source": [
    "pip install imbalanced-learn"
   ]
  },
  {
   "cell_type": "code",
   "execution_count": 134,
   "metadata": {},
   "outputs": [
    {
     "name": "stdout",
     "output_type": "stream",
     "text": [
      "imblearn is successfully installed and imported!\n",
      "Version: 0.13.0\n"
     ]
    }
   ],
   "source": [
    "try:\n",
    "    import imblearn\n",
    "    print(\"imblearn is successfully installed and imported!\")\n",
    "    print(f\"Version: {imblearn.__version__}\")\n",
    "except ModuleNotFoundError:\n",
    "    print(\"Error: imblearn is still not found.\")"
   ]
  },
  {
   "cell_type": "code",
   "execution_count": null,
   "metadata": {},
   "outputs": [],
   "source": [
    "# from imblearn.over_sampling import SMOTE"
   ]
  },
  {
   "cell_type": "code",
   "execution_count": null,
   "metadata": {},
   "outputs": [
    {
     "name": "stdout",
     "output_type": "stream",
     "text": [
      "--- Applying SMOTE Resampling ---\n",
      "Resampling training data with SMOTE...\n",
      "Original training class distribution: target\n",
      "0.0    89549\n",
      "1.0     5296\n",
      "Name: count, dtype: int64\n",
      "Resampled training class distribution: target\n",
      "0.0    89549\n",
      "1.0    89549\n",
      "Name: count, dtype: int64\n",
      "\n",
      "--- Training Random Forest Model (SMOTE + Class_Weight='balanced') ---\n",
      "\n",
      "--- Tuning Threshold for SMOTE + Class_Weight='balanced' Model ---\n",
      "\n",
      "=========================================================\n",
      "  FINAL TUNED RANDOM FOREST MODEL PERFORMANCE          \n",
      "  (SMOTE Resampling + Class_Weight='balanced')         \n",
      "=========================================================\n",
      "\n",
      "--- Best Result from Threshold Tuning ---\n",
      "Optimal Threshold (based on F1-score): 0.300\n",
      "Best F1-score (Fraud):                 0.21\n",
      "Precision at optimal threshold:        0.13\n",
      "Recall at optimal threshold:           0.46\n",
      "---------------------------------------------------------\n",
      "\n",
      "Final Classification Report with Optimal Threshold (0.300):\n",
      "              precision    recall  f1-score   support\n",
      "\n",
      "         0.0       0.96      0.82      0.89     38378\n",
      "         1.0       0.13      0.46      0.21      2270\n",
      "\n",
      "    accuracy                           0.80     40648\n",
      "   macro avg       0.55      0.64      0.55     40648\n",
      "weighted avg       0.92      0.80      0.85     40648\n",
      "\n",
      "\n",
      "Confusion Matrix:\n",
      "[[31508  6870]\n",
      " [ 1215  1055]]\n",
      "\n",
      "AUC-PR Score: 0.1374\n",
      "ROC AUC Score: 0.7385\n"
     ]
    }
   ],
   "source": [
    "# --- Step 3 \n",
    "# --- Apply SMOTE Resampling ---\n",
    "print(\"--- Applying SMOTE Resampling ---\")\n",
    "\n",
    "smote = SMOTE(random_state=42)\n",
    "print(\"Resampling training data with SMOTE...\")\n",
    "X_train_resampled, y_train_resampled = smote.fit_resample(X_train, y_train)\n",
    "\n",
    "print(f\"Original training class distribution: {y_train.value_counts()}\")\n",
    "print(f\"Resampled training class distribution: {y_train_resampled.value_counts()}\")\n",
    "\n",
    "# --- Train Random Forest Model with Class_Weight='balanced' on Resampled Data ---\n",
    "print(\"\\n--- Training Random Forest Model (SMOTE + Class_Weight='balanced') ---\")\n",
    "\n",
    "# Using class_weight='balanced' in addition to SMOTE is a common strategy\n",
    "# to further bias the model towards the minority class.\n",
    "random_forest_final_tuned = RandomForestClassifier(\n",
    "    class_weight='balanced', # Using balanced class weight\n",
    "    criterion='entropy',\n",
    "    random_state=42\n",
    ")\n",
    "random_forest_final_tuned.fit(X_train_resampled, y_train_resampled)\n",
    "\n",
    "# --- Make Predictions (probabilities) ---\n",
    "y_probs_final_tuned = random_forest_final_tuned.predict_proba(X_test)[:, 1]\n",
    "\n",
    "# --- Perform Threshold Tuning for this Specific Combined Model ---\n",
    "print(\"\\n--- Tuning Threshold for SMOTE + Class_Weight='balanced' Model ---\")\n",
    "\n",
    "# Define a range of thresholds to test\n",
    "# A wider range is good for a new combination.\n",
    "class_weight_threshold = [0.01, 0.02, 0.03, 0.05, 0.07, 0.10, 0.15, 0.20, 0.25, 0.30, 0.40, 0.50]\n",
    "\n",
    "best_f1_final_tuned = 0\n",
    "optimal_threshold_final_tuned = 0\n",
    "optimal_precision_final_tuned = 0\n",
    "optimal_recall_final_tuned = 0\n",
    "\n",
    "for t in class_weight_threshold:\n",
    "    y_pred_at_threshold = (y_probs_final_tuned >= t).astype(int)\n",
    "\n",
    "    precision = precision_score(y_test, y_pred_at_threshold, pos_label=1, zero_division=0)\n",
    "    recall = recall_score(y_test, y_pred_at_threshold, pos_label=1, zero_division=0)\n",
    "    f1 = f1_score(y_test, y_pred_at_threshold, pos_label=1, zero_division=0)\n",
    "\n",
    "    # print(f\"Threshold: {t:.3f} | Precision: {precision:.2f} | Recall: {recall:.2f} | F1-score: {f1:.2f}\") # Optional: uncomment to see all threshold results\n",
    "\n",
    "    if f1 > best_f1_final_tuned:\n",
    "        best_f1_final_tuned = f1\n",
    "        optimal_threshold_final_tuned = t\n",
    "        optimal_precision_final_tuned = precision\n",
    "        optimal_recall_final_tuned = recall\n",
    "\n",
    "# --- Print Final Tuned Model Results ---\n",
    "print(\"\\n=========================================================\")\n",
    "print(\"  FINAL TUNED RANDOM FOREST MODEL PERFORMANCE          \")\n",
    "print(\"  (SMOTE Resampling + Class_Weight='balanced')         \")\n",
    "print(\"=========================================================\")\n",
    "\n",
    "print(\"\\n--- Best Result from Threshold Tuning ---\")\n",
    "print(f\"Optimal Threshold (based on F1-score): {optimal_threshold_final_tuned:.3f}\")\n",
    "print(f\"Best F1-score (Fraud):                 {best_f1_final_tuned:.2f}\")\n",
    "print(f\"Precision at optimal threshold:        {optimal_precision_final_tuned:.2f}\")\n",
    "print(f\"Recall at optimal threshold:           {optimal_recall_final_tuned:.2f}\")\n",
    "print(\"---------------------------------------------------------\")\n",
    "\n",
    "# Final Classification Report with the optimal threshold\n",
    "y_pred_optimal_final_tuned = (y_probs_final_tuned >= optimal_threshold_final_tuned).astype(int)\n",
    "print(f\"\\nFinal Classification Report with Optimal Threshold ({optimal_threshold_final_tuned:.3f}):\")\n",
    "print(classification_report(y_test, y_pred_optimal_final_tuned))\n",
    "\n",
    "# Confusion Matrix\n",
    "print(\"\\nConfusion Matrix:\")\n",
    "print(confusion_matrix(y_test, y_pred_optimal_final_tuned))\n",
    "\n",
    "# Calculate AUC-PR (independent of threshold)\n",
    "pr_curve_final_tuned, rec_curve_final_tuned, _ = precision_recall_curve(y_test, y_probs_final_tuned)\n",
    "auc_pr_final_tuned = auc(rec_curve_final_tuned, pr_curve_final_tuned)\n",
    "print(f\"\\nAUC-PR Score: {auc_pr_final_tuned:.4f}\")\n",
    "\n",
    "# Calculate ROC AUC Score (independent of threshold)\n",
    "roc_auc_final_tuned = roc_auc_score(y_test, y_probs_final_tuned)\n",
    "print(f\"ROC AUC Score: {roc_auc_final_tuned:.4f}\")\n",
    "\n",
    " "
   ]
  },
  {
   "cell_type": "markdown",
   "metadata": {},
   "source": [
    "# Our random tree Interpretation:\n",
    "Our fine-tuned Random Forest model performs better overall than the Logistic Regression baseline. It strikes a better balance between precision and recall (F1: 0.21 vs 0.17) and is also more accurate (80% vs 67%).\n",
    "\n",
    "The fine-tuning (using SMOTE and class_weight='balanced') helped reduce false alarms slightly (Precision: 0.13 vs 0.10), making it more efficient at spotting fraud with fewer mistakes.\n",
    "\n",
    "However, Logistic Regression catches more actual frauds (Recall: 0.59 vs 0.46) by predicting \"fraud\" more often—though this comes at the cost of a lot more false positives.\n",
    "\n",
    "Key challenge: Even with improvements, both models still struggle with low precision. For every fraud caught, several false alarms are triggered—making real-world use still a challenge.\n",
    "\n",
    "| Metric / Model              | Logistic Regression Baseline | Random Forest (SMOTE + Balanced CW) |\n",
    "|----------------------------|------------------------------|-------------------------------------|\n",
    "| Optimal Threshold          | (Default ~0.50)              | 0.300                               |\n",
    "| F1-score (Fraud)           | 0.17                         | 0.21                                |\n",
    "| Precision (Fraud)          | 0.10                         | 0.13                                |\n",
    "| Recall (Fraud)             | 0.59                         | 0.46                                |\n",
    "| Overall Accuracy           | 0.67                         | 0.80                                |\n",
    "| True Positives (TP)        | 1,349                        | 1,055                               |\n",
    "| False Positives (FP)       | 12,685                       | 6,870                               |\n",
    "| False Negatives (FN)       | 921                          | 1,215                               |\n",
    "| True Negatives (TN)        | 25,693                       | 31,508                              |\n",
    "| AUC-PR Score               | 0.0979                       | 0.1374                              |\n",
    "| ROC AUC Score              | 0.6909                       | 0.7385                              |\n"
   ]
  },
  {
   "cell_type": "markdown",
   "metadata": {},
   "source": [
    "## Decision Tree"
   ]
  },
  {
   "cell_type": "code",
   "execution_count": null,
   "metadata": {},
   "outputs": [],
   "source": [
    "# from sklearn.tree import DecisionTreeClassifier"
   ]
  },
  {
   "cell_type": "code",
   "execution_count": 140,
   "metadata": {},
   "outputs": [
    {
     "name": "stdout",
     "output_type": "stream",
     "text": [
      "--- Training Decision Tree Model with Class_Weight='balanced' ---\n",
      "\n",
      "--- Decision Tree Model Evaluation at Different Thresholds ---\n",
      "\n",
      "---------------------------------------------------------\n",
      "Optimal Threshold (based on F1-score for Decision Tree): 0.010\n",
      "Best F1-score (Fraud):                 0.13\n",
      "Precision at optimal threshold:        0.13\n",
      "Recall at optimal threshold:           0.14\n",
      "---------------------------------------------------------\n",
      "\n",
      "Final Classification Report with Optimal Threshold (0.010):\n",
      "              precision    recall  f1-score   support\n",
      "\n",
      "         0.0       0.95      0.95      0.95     38378\n",
      "         1.0       0.13      0.14      0.13      2270\n",
      "\n",
      "    accuracy                           0.90     40648\n",
      "   macro avg       0.54      0.54      0.54     40648\n",
      "weighted avg       0.90      0.90      0.90     40648\n",
      "\n",
      "\n",
      "Confusion Matrix:\n",
      "[[36360  2018]\n",
      " [ 1963   307]]\n",
      "\n",
      "Decision Tree AUC-PR Score: 0.1578\n",
      "Decision Tree ROC AUC Score: 0.5413\n"
     ]
    }
   ],
   "source": [
    "# --- Train Decision Tree Model ---\n",
    "print(\"--- Training Decision Tree Model with Class_Weight='balanced' ---\")\n",
    "\n",
    "# Using class_weight='balanced' to handle class imbalance directly in the tree\n",
    "decision_tree_model = DecisionTreeClassifier(\n",
    "    class_weight='balanced',\n",
    "    random_state=42,\n",
    "    criterion=\"entropy\" \n",
    ")\n",
    "decision_tree_model.fit(X_train, y_train)\n",
    "\n",
    "# --- Make Predictions (probabilities) ---\n",
    "# Decision trees can also output probabilities, which are necessary for threshold tuning\n",
    "y_probs_dt = decision_tree_model.predict_proba(X_test)[:, 1]\n",
    "\n",
    "# --- Evaluate with Threshold Tuning ---\n",
    "print(\"\\n--- Decision Tree Model Evaluation at Different Thresholds ---\")\n",
    "\n",
    "# Define a range of thresholds to test\n",
    "class_weight_threshold = [0.01, 0.02, 0.03, 0.05, 0.07, 0.10, 0.15, 0.20, 0.25, 0.30, 0.40, 0.50]\n",
    "\n",
    "best_f1_dt = 0\n",
    "optimal_threshold_dt = 0\n",
    "optimal_precision_dt = 0\n",
    "optimal_recall_dt = 0\n",
    "\n",
    "for t in class_weight_threshold:\n",
    "    # Apply the threshold to get hard predictions\n",
    "    y_pred_at_threshold = (y_probs_dt >= t).astype(int)\n",
    "\n",
    "    # Calculate metrics for the fraud class (1.0)\n",
    "    precision = precision_score(y_test, y_pred_at_threshold, pos_label=1, zero_division=0)\n",
    "    recall = recall_score(y_test, y_pred_at_threshold, pos_label=1, zero_division=0)\n",
    "    f1 = f1_score(y_test, y_pred_at_threshold, pos_label=1, zero_division=0)\n",
    "\n",
    "    # Optional: uncomment the line below to see results for each threshold during tuning\n",
    "    # print(f\"\\nThreshold: {t:.3f} | Precision: {precision:.2f} | Recall: {recall:.2f} | F1-score: {f1:.2f}\")\n",
    "\n",
    "    # Keep track of the best F1-score and its corresponding threshold\n",
    "    if f1 > best_f1_dt:\n",
    "        best_f1_dt = f1\n",
    "        optimal_threshold_dt = t\n",
    "        optimal_precision_dt = precision\n",
    "        optimal_recall_dt = recall\n",
    "\n",
    "\n",
    "# --- Print Best Result from Threshold Tuning ---\n",
    "print(\"\\n---------------------------------------------------------\")\n",
    "print(f\"Optimal Threshold (based on F1-score for Decision Tree): {optimal_threshold_dt:.3f}\")\n",
    "print(f\"Best F1-score (Fraud):                 {best_f1_dt:.2f}\")\n",
    "print(f\"Precision at optimal threshold:        {optimal_precision_dt:.2f}\")\n",
    "print(f\"Recall at optimal threshold:           {optimal_recall_dt:.2f}\")\n",
    "print(\"---------------------------------------------------------\")\n",
    "\n",
    "# --- Final Classification Report with the optimal threshold ---\n",
    "y_pred_final_dt = (y_probs_dt >= optimal_threshold_dt).astype(int)\n",
    "print(f\"\\nFinal Classification Report with Optimal Threshold ({optimal_threshold_dt:.3f}):\")\n",
    "print(classification_report(y_test, y_pred_final_dt))\n",
    "\n",
    "# --- Confusion Matrix for Decision Tree at optimal threshold ---\n",
    "print(\"\\nConfusion Matrix:\")\n",
    "print(confusion_matrix(y_test, y_pred_final_dt))\n",
    "\n",
    "\n",
    "# --- Calculate AUC-PR for Decision Tree (independent of threshold) ---\n",
    "pr_curve_dt, rec_curve_dt, _ = precision_recall_curve(y_test, y_probs_dt)\n",
    "auc_pr_dt = auc(rec_curve_dt, pr_curve_dt)\n",
    "print(f\"\\nDecision Tree AUC-PR Score: {auc_pr_dt:.4f}\")\n",
    "\n",
    "# --- Calculate ROC AUC Score for Decision Tree (independent of threshold) ---\n",
    "roc_auc_dt = roc_auc_score(y_test, y_probs_dt)\n",
    "print(f\"Decision Tree ROC AUC Score: {roc_auc_dt:.4f}\")"
   ]
  },
  {
   "cell_type": "markdown",
   "metadata": {},
   "source": [
    "## Interpretation\n",
    "\n",
    "| Metric / Model              | Logistic Regression Baseline     | Random Forest (Tuned)     | Decision Tree (Tuned)     |\n",
    "|----------------------------|----------------------------------|----------------------------|----------------------------|\n",
    "| Optimal Threshold          | 0.50 (default)                   | 0.15                       | 0.010                      |\n",
    "| F1-score (Fraud)           | 0.17                             | 0.23                       | 0.13                       |\n",
    "| Precision (Fraud)          | 0.10                             | 0.19                       | 0.13                       |\n",
    "| Recall (Fraud)             | 0.59                             | 0.31                       | 0.14                       |\n",
    "| Overall Accuracy           | 0.67                             | 0.91                       | 0.90                       |\n",
    "| AUC-PR Score               | ~0.147 (from earlier run)        | ~0.157 (from earlier run)  | 0.1578                     |\n",
    "| ROC AUC Score              | ~0.747 (from earlier run)        | ~0.745 (from earlier run)  | 0.5413                     |\n",
    "| Confusion Matrix (Fraud)   | FP: High, FN: Medium             | FP: Low, FN: Medium-High   | FP: Low, FN: Very High     |\n",
    "| FP Count (approx)          | N/A (high)                       | 1,978                      | 2,018                      |\n",
    "| FN Count (approx)          | N/A (medium)                     | 1,568                      | 1,963                      |\n"
   ]
  },
  {
   "cell_type": "markdown",
   "metadata": {},
   "source": [
    "## Monetary impact"
   ]
  },
  {
   "cell_type": "markdown",
   "metadata": {},
   "source": [
    "Annual Fraud Loss: 6M Euro\n",
    "Cases 2270\n",
    "AVG Value €6,000,000 / 2,270 fraud cases = €2,643.17 per fraud case.\n",
    "Cost per False Positive (FP): This is a critical assumption. Let's assume a cost of €100 per false positive. This could cover expenses like:\n",
    "* Manual review time\n",
    "* Customer service inquiry handling\n",
    "* Potential customer churn if legitimate transactions are frequently blocked.\n"
   ]
  },
  {
   "cell_type": "markdown",
   "metadata": {},
   "source": [
    "| Metric / Model               | Logistic Regression Baseline | Random Forest (Tuned) | Decision Tree (Tuned) |\n",
    "|-----------------------------|------------------------------|------------------------|------------------------|\n",
    "| Value Saved (TPs)           | €3,539,949                   | €1,855,941             | €811,105               |\n",
    "| Value Missed (FNs)          | €2,461,840                   | €4,144,059             | €5,191,245             |\n",
    "| Cost of False Positives (FPs)| €1,205,100                  | €197,800               | €201,800               |\n",
    "| Net Monetary Impact         | €2,334,849                   | €1,658,141             | €609,305               |\n"
   ]
  }
 ],
 "metadata": {
  "kernelspec": {
   "display_name": ".venv",
   "language": "python",
   "name": "python3"
  },
  "language_info": {
   "codemirror_mode": {
    "name": "ipython",
    "version": 3
   },
   "file_extension": ".py",
   "mimetype": "text/x-python",
   "name": "python",
   "nbconvert_exporter": "python",
   "pygments_lexer": "ipython3",
   "version": "3.11.3"
  }
 },
 "nbformat": 4,
 "nbformat_minor": 4
}
